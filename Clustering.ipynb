{
 "cells": [
  {
   "cell_type": "code",
   "execution_count": 1,
   "id": "bb971cf9-f8e9-433b-97f3-3240e7483c33",
   "metadata": {},
   "outputs": [
    {
     "name": "stdout",
     "output_type": "stream",
     "text": [
      "All packages imported!\n"
     ]
    }
   ],
   "source": [
    "import math\n",
    "import numpy as np\n",
    "import matplotlib.pyplot as plt\n",
    "%matplotlib inline\n",
    "import os\n",
    "import pandas as pd\n",
    "import glob\n",
    "\n",
    "import blimpy\n",
    "from blimpy import Waterfall\n",
    "from blimpy import utils\n",
    "from blimpy import plotting\n",
    "\n",
    "import turbo_seti.find_doppler.seti_event as turbo\n",
    "import turbo_seti.find_event as find_event\n",
    "from turbo_seti.find_doppler.find_doppler import FindDoppler\n",
    "from turbo_seti.find_event.find_event_pipeline import find_event_pipeline\n",
    "from turbo_seti.find_event.plot_event_pipeline import plot_event_pipeline\n",
    "import pandas as pd\n",
    "%matplotlib inline\n",
    "\n",
    "print(\"All packages imported!\")"
   ]
  },
  {
   "cell_type": "code",
   "execution_count": 2,
   "id": "a25df7e1-6dd7-41d8-a2d9-20f1ce0127cc",
   "metadata": {},
   "outputs": [],
   "source": [
    "def grab_file_path(data_dir,file_type,node_number):\n",
    "    '''\n",
    "    returns h5 and dat file path from given directory, ordered correctly\n",
    "    '''\n",
    "    \n",
    "    ## h5 list\n",
    "    data_list = []\n",
    "    for dirname, _, filenames in os.walk(data_dir):\n",
    "        for filename in filenames:\n",
    "            if filename[-len(file_type):] == file_type and node_number in filename:\n",
    "                data_list.append(filename)\n",
    "    \n",
    "    data_list = sorted(data_list, key=lambda x: (x,x.split('_')[5]))\n",
    "\n",
    "    print(data_list)\n",
    "    \n",
    "    data_path = os.path.join(data_dir, file_type[1:]+'_list.lst')\n",
    "    with open(data_path, 'w') as f:\n",
    "        for path in data_list:\n",
    "            f.write(data_dir+path + '\\n')\n",
    "\n",
    "    #You don't have to print, but it's a good way to check that your list is in the correct order:\n",
    "    with open(data_path, 'r') as f:\n",
    "        print(f.read())\n",
    "    f.close()\n",
    "    \n",
    "    return data_path"
   ]
  },
  {
   "cell_type": "code",
   "execution_count": 3,
   "id": "edd8d6be-a5fe-4d88-8318-e4232b770c79",
   "metadata": {},
   "outputs": [],
   "source": [
    "def files_plotter(files,f_start,f_end,show_plot):\n",
    "    '''\n",
    "    Grabs the data of the waterfall object segment you are interested in\n",
    "    '''\n",
    "\n",
    "    this_cadence_data = []\n",
    "    this_cadence_extents = []\n",
    "    if show_plot == True:\n",
    "        fig, axs = plt.subplots(len(files),figsize=(10, 1.5*len(files)))\n",
    "    for file_number,file in enumerate(files):\n",
    "\n",
    "    # print('getting data',file)\n",
    "        obs = Waterfall(file,f_start=f_start,f_stop=f_end)\n",
    "        # data = obs.data\n",
    "        plot_f, plot_data = obs.grab_data(f_start=f_start,f_stop=f_end)\n",
    "        plot_data = plot_data.astype('float32')\n",
    "        # print('got data')\n",
    "    \n",
    "        #\n",
    "        MAX_PLT_POINTS      = 65536                  # Max number of points in matplotlib plot\n",
    "        MAX_IMSHOW_POINTS   = (8192, 4096)           # Max number of points in imshow plot\n",
    "    \n",
    "    \n",
    "        dec_fac_x, dec_fac_y = 1, 1\n",
    "        if plot_data.shape[0] > MAX_IMSHOW_POINTS[0]:\n",
    "            dec_fac_x = int(plot_data.shape[0] / MAX_IMSHOW_POINTS[0])\n",
    "    \n",
    "        if plot_data.shape[1] > MAX_IMSHOW_POINTS[1]:\n",
    "            dec_fac_y = int(plot_data.shape[1] / MAX_IMSHOW_POINTS[1])\n",
    "            \n",
    "        plot_data = utils.rebin(plot_data, dec_fac_x, dec_fac_y)\n",
    "        extent = plotting.plot_utils.calc_extent(obs, plot_f=plot_f, plot_t=obs.timestamps, MJD_time=60098.829675925925)\n",
    "        reverse=False\n",
    "        if reverse==True:\n",
    "                plot_data = plot_data[..., ::-1]  # Reverse data\n",
    "                plot_f = plot_f[::-1]\n",
    "        new_extent = list(extent)\n",
    "        new_extent[2] = 0\n",
    "        new_extent[3] = 292.057776\n",
    "        new_extents = tuple(new_extent)\n",
    "\n",
    "\n",
    "        if show_plot == True:\n",
    "            axs[file_number].imshow(plot_data,\n",
    "                           aspect='auto',\n",
    "                           origin='lower',\n",
    "                           rasterized=True,\n",
    "                           interpolation='nearest',\n",
    "                           extent = new_extents,\n",
    "                           cmap='viridis',\n",
    "                           )\n",
    "            axs[file_number].set_xlabel(\"freq Mhz\",fontsize=10)\n",
    "            axs[file_number].tick_params(axis='x', which='major', labelsize=1)\n",
    "            axs[file_number].set_ylim( axs[file_number].get_ylim()[::-1])\n",
    "            axs[file_number].tick_params(axis='y', which='major', labelsize=15)\n",
    "    \n",
    "            if file_number == 5:\n",
    "                axs[file_number].tick_params(axis='x', which='major', labelsize=10)\n",
    "        this_cadence_data.append(plot_data)\n",
    "        this_cadence_extents.append(extent)\n",
    "\n",
    "\n",
    "    if show_plot == True:\n",
    "        plt.subplots_adjust(hspace=0)\n",
    "        plt.show()\n",
    "\n",
    "\n",
    "    return this_cadence_data, this_cadence_extents"
   ]
  },
  {
   "cell_type": "code",
   "execution_count": 4,
   "id": "f76be2dd-c69e-4578-bcae-a4bd43c7e247",
   "metadata": {},
   "outputs": [],
   "source": [
    "def cycle_events(all_events,data_dir,show_plot):\n",
    "    '''\n",
    "    Cycles through the hits of a given snr, plots them, and returns the events as np arrays \n",
    "    '''\n",
    "    print('cycling!')\n",
    "    all_plot_data = []\n",
    "    all_extents = []\n",
    "    all_file_names = []\n",
    "    for i in range(0,len(all_events)):\n",
    "        file = data_dir + all_events[\"FileID\"][i]\n",
    "        file = file[:-3]+\"h5\"\n",
    "        drift_rate = all_events[\"DriftRate\"][i]\n",
    "        freq = all_events[\"Freq\"][i]\n",
    "        f_start = freq - (drift_rate/10**6)*2000\n",
    "        f_end = freq + (drift_rate/10**6)*2000\n",
    "    \n",
    "    \n",
    "        node = file.split(\"/\")[-1][0:5]\n",
    "        print(f\"================================ {i} -- NODE {node} =============================\")\n",
    "        print(\"f_start,\",f_start,\"f_stop:\",f_end,\"file:\",file)\n",
    "              \n",
    "        h5_list_path = grab_file_list(data_dir, '.h5',node)\n",
    "        this_cadence_data = []\n",
    "        this_cadence_extents = []\n",
    "        all_file_names.append(h5_list_path)        \n",
    "        # print(h5_list_path)\n",
    "        this_cadence_data, this_cadence_extents = files_plotter(h5_list_path,f_start,f_end,show_plot)\n",
    "        \n",
    "\n",
    "        all_plot_data.append(this_cadence_data)\n",
    "        all_extents.append(this_cadence_extents)\n",
    "    return all_plot_data, all_extents, all_file_names\n"
   ]
  },
  {
   "cell_type": "code",
   "execution_count": 5,
   "id": "2a94fcf6-f75a-4b69-910b-3ac7a6c77a18",
   "metadata": {},
   "outputs": [],
   "source": [
    "def grab_file_list(data_dir,file_type,node_number):\n",
    "    '''\n",
    "    returns h5 and dat file path from given directory, ordered correctly\n",
    "    '''\n",
    "    \n",
    "    ## h5 list\n",
    "    data_list = []\n",
    "    for dirname, _, filenames in os.walk(data_dir):\n",
    "        for filename in filenames:\n",
    "            if filename[-len(file_type):] == file_type and node_number in filename:\n",
    "                data_list.append(data_dir + filename)\n",
    "                \n",
    "    data_list = sorted(data_list, key=lambda x: (x,x.split('_')[5]))\n",
    "\n",
    "    return data_list"
   ]
  },
  {
   "cell_type": "code",
   "execution_count": 8,
   "id": "109bf73e-f0f0-4b87-a482-fc7259a3144a",
   "metadata": {},
   "outputs": [],
   "source": [
    "def plot_events(snr):\n",
    "    total_plot_data = []\n",
    "    total_extents = []\n",
    "    total_file_names = []\n",
    "    for galaxy in sample2:\n",
    "        print(\"Galaxy: \",galaxy)\n",
    "        try:\n",
    "            galaxy_csv = pd.read_csv(f\"/datax/scratch/calebp/seticore_testing/snr_testing/{snr}off10on/{galaxy}/master.csv\")\n",
    "            all_plot_data, all_extents, all_file_names = cycle_events(galaxy_csv,f\"/datax/scratch/calebp/seticore_testing/snr_testing/{snr}off10on/{galaxy}/\",False)\n",
    "            for i in all_plot_data:\n",
    "                total_plot_data.append(i)\n",
    "            for i in all_extents:\n",
    "                total_extents.append(i)\n",
    "            for i in all_file_names:\n",
    "                total_file_names.append(i)\n",
    "        except:\n",
    "            print(f\"No events for {galaxy}\")\n",
    "    \n",
    "    return total_plot_data, total_extents, total_file_names\n"
   ]
  },
  {
   "cell_type": "code",
   "execution_count": 7,
   "id": "40fbc840",
   "metadata": {},
   "outputs": [],
   "source": [
    "sample2 = ['AND_XXIII']"
   ]
  },
  {
   "cell_type": "code",
   "execution_count": 16,
   "id": "a1489bae-9dab-4481-aa78-7411fe08b1a3",
   "metadata": {},
   "outputs": [],
   "source": [
    "sample1 = ['MESSIER031', 'MESSIER033', 'MESSIER081', 'MESSIER101', 'MESSIER49', 'MESSIER59', 'MESSIER60','MESSIER84', 'MESSIER86', 'MESSIER87', 'NGC0185', 'NGC0628', 'NGC0672 ', 'NGC1052', 'NGC1172 ', 'NGC1400', 'NGC1407', 'NGC2403','NGC2683', 'NGC2787', 'NGC3193', 'NGC3226', 'NGC3344', 'NGC3379', 'NGC4136', 'NGC4168', 'NGC4239', 'NGC4244', 'NGC4258', 'NGC4318', 'NGC4365', 'NGC4387', 'NGC4434', 'NGC4458', 'NGC4473', 'NGC4478', 'NGC4486B', 'NGC4489', 'NGC4551', 'NGC4559', 'NGC4564', 'NGC4600', 'NGC4618', 'NGC4660', 'NGC4736', 'NGC4826', 'NGC5194', 'NGC5195', 'NGC5322', 'NGC5638', 'NGC5813', 'NGC5831', 'NGC584', 'NGC5845', 'NGC5846', 'NGC596', 'NGC636', 'NGC6503', 'NGC6822', 'NGC6946', 'NGC720', 'NGC7454 ', 'NGC7640', 'NGC821', 'PEGASUS', 'SAG_DIR', 'SEXA', 'SEXB', 'SEXDSPH', 'UGC04879', 'UGCA127', 'UMIN']"
   ]
  },
  {
   "cell_type": "code",
   "execution_count": 9,
   "id": "79ea739d-5d81-4d32-b351-1b09050832b9",
   "metadata": {
    "scrolled": true
   },
   "outputs": [
    {
     "name": "stdout",
     "output_type": "stream",
     "text": [
      "Galaxy:  AND_XXIII\n",
      "cycling!\n",
      "================================ 0 -- NODE blc02 =============================\n",
      "f_start, 1697.605733728 f_stop: 1697.608958272 file: /datax/scratch/calebp/seticore_testing/snr_testing/8off10on/AND_XXIII/blc02_guppi_59404_21457_And_XXIII_0088.rawspec.0000.h5\n",
      "================================ 1 -- NODE blc02 =============================\n",
      "f_start, 1697.606267094 f_stop: 1697.6096549059998 file: /datax/scratch/calebp/seticore_testing/snr_testing/8off10on/AND_XXIII/blc02_guppi_59404_22099_And_XXIII_0090.rawspec.0000.h5\n",
      "================================ 2 -- NODE blc02 =============================\n",
      "f_start, 1697.602857954 f_stop: 1697.605960046 file: /datax/scratch/calebp/seticore_testing/snr_testing/8off10on/AND_XXIII/blc02_guppi_59404_21457_And_XXIII_0088.rawspec.0000.h5\n",
      "================================ 3 -- NODE blc02 =============================\n",
      "f_start, 1697.6034415440001 f_stop: 1697.606584456 file: /datax/scratch/calebp/seticore_testing/snr_testing/8off10on/AND_XXIII/blc02_guppi_59404_22099_And_XXIII_0090.rawspec.0000.h5\n",
      "================================ 4 -- NODE blc02 =============================\n",
      "f_start, 1697.598453808 f_stop: 1697.6041681919999 file: /datax/scratch/calebp/seticore_testing/snr_testing/8off10on/AND_XXIII/blc02_guppi_59404_21457_And_XXIII_0088.rawspec.0000.h5\n",
      "================================ 5 -- NODE blc02 =============================\n",
      "f_start, 1697.601939548 f_stop: 1697.6021844519998 file: /datax/scratch/calebp/seticore_testing/snr_testing/8off10on/AND_XXIII/blc02_guppi_59404_22099_And_XXIII_0090.rawspec.0000.h5\n"
     ]
    }
   ],
   "source": [
    "all_plot_data, all_extents, all_file_names = plot_events(8)"
   ]
  },
  {
   "cell_type": "code",
   "execution_count": 19,
   "id": "5051af66-ba2d-46e6-8be9-d9017d2a13fb",
   "metadata": {
    "scrolled": true
   },
   "outputs": [
    {
     "data": {
      "text/plain": [
       "16"
      ]
     },
     "execution_count": 19,
     "metadata": {},
     "output_type": "execute_result"
    }
   ],
   "source": [
    "len(all_plot_data[1][1])"
   ]
  },
  {
   "cell_type": "code",
   "execution_count": 26,
   "id": "1d0ba4a9-cf86-459a-a0a8-cca7865e66dd",
   "metadata": {},
   "outputs": [
    {
     "ename": "ValueError",
     "evalue": "setting an array element with a sequence. The requested array has an inhomogeneous shape after 3 dimensions. The detected shape was (603, 6, 16) + inhomogeneous part.",
     "output_type": "error",
     "traceback": [
      "\u001b[0;31m---------------------------------------------------------------------------\u001b[0m",
      "\u001b[0;31mValueError\u001b[0m                                Traceback (most recent call last)",
      "Cell \u001b[0;32mIn[26], line 1\u001b[0m\n\u001b[0;32m----> 1\u001b[0m \u001b[43mnp\u001b[49m\u001b[38;5;241;43m.\u001b[39;49m\u001b[43msave\u001b[49m\u001b[43m(\u001b[49m\u001b[38;5;124;43m\"\u001b[39;49m\u001b[38;5;124;43m/datax/scratch/calebp/seticore_testing/all_plot_data.np\u001b[39;49m\u001b[38;5;124;43m\"\u001b[39;49m\u001b[43m,\u001b[49m\u001b[43mall_plot_data\u001b[49m\u001b[43m)\u001b[49m\n",
      "File \u001b[0;32m<__array_function__ internals>:200\u001b[0m, in \u001b[0;36msave\u001b[0;34m(*args, **kwargs)\u001b[0m\n",
      "File \u001b[0;32m~/.local/lib/python3.10/site-packages/numpy/lib/npyio.py:521\u001b[0m, in \u001b[0;36msave\u001b[0;34m(file, arr, allow_pickle, fix_imports)\u001b[0m\n\u001b[1;32m    518\u001b[0m     file_ctx \u001b[38;5;241m=\u001b[39m \u001b[38;5;28mopen\u001b[39m(file, \u001b[38;5;124m\"\u001b[39m\u001b[38;5;124mwb\u001b[39m\u001b[38;5;124m\"\u001b[39m)\n\u001b[1;32m    520\u001b[0m \u001b[38;5;28;01mwith\u001b[39;00m file_ctx \u001b[38;5;28;01mas\u001b[39;00m fid:\n\u001b[0;32m--> 521\u001b[0m     arr \u001b[38;5;241m=\u001b[39m \u001b[43mnp\u001b[49m\u001b[38;5;241;43m.\u001b[39;49m\u001b[43masanyarray\u001b[49m\u001b[43m(\u001b[49m\u001b[43marr\u001b[49m\u001b[43m)\u001b[49m\n\u001b[1;32m    522\u001b[0m     \u001b[38;5;28mformat\u001b[39m\u001b[38;5;241m.\u001b[39mwrite_array(fid, arr, allow_pickle\u001b[38;5;241m=\u001b[39mallow_pickle,\n\u001b[1;32m    523\u001b[0m                        pickle_kwargs\u001b[38;5;241m=\u001b[39m\u001b[38;5;28mdict\u001b[39m(fix_imports\u001b[38;5;241m=\u001b[39mfix_imports))\n",
      "\u001b[0;31mValueError\u001b[0m: setting an array element with a sequence. The requested array has an inhomogeneous shape after 3 dimensions. The detected shape was (603, 6, 16) + inhomogeneous part."
     ]
    }
   ],
   "source": [
    "np.save(\"/datax/scratch/calebp/seticore_testing/all_plot_data.np\",all_plot_data)"
   ]
  },
  {
   "cell_type": "code",
   "execution_count": 42,
   "id": "fcbbb230-cecc-4a5e-bf5a-945a0a88f857",
   "metadata": {
    "scrolled": true
   },
   "outputs": [],
   "source": [
    "import pickle\n",
    "\n",
    "with open(\"/datax/scratch/calebp/seticore_testing/all_plot_data.np\", \"wb\") as fp:   #Pickling\n",
    "    pickle.dump(all_plot_data, fp)"
   ]
  },
  {
   "cell_type": "code",
   "execution_count": 43,
   "id": "2063201e-cc39-42e7-9d61-8e5d1c97cd6e",
   "metadata": {},
   "outputs": [],
   "source": [
    "with open(\"/datax/scratch/calebp/seticore_testing/all_plot_data.np\", \"rb\") as fp:   #Pickling\n",
    "    b = pickle.load(fp)"
   ]
  },
  {
   "cell_type": "code",
   "execution_count": 20,
   "id": "a7df82db-6a6f-48cc-b8d1-ac377e47fb29",
   "metadata": {},
   "outputs": [],
   "source": [
    "import pickle\n",
    "\n",
    "with open(\"/datax/scratch/calebp/seticore_testing/anomaly.np\", \"wb\") as fp:   #Pickling\n",
    "    pickle.dump(all_plot_data, fp)"
   ]
  },
  {
   "cell_type": "code",
   "execution_count": null,
   "id": "f7666529",
   "metadata": {},
   "outputs": [],
   "source": []
  }
 ],
 "metadata": {
  "kernelspec": {
   "display_name": "Python 3 (ipykernel)",
   "language": "python",
   "name": "python3"
  },
  "language_info": {
   "codemirror_mode": {
    "name": "ipython",
    "version": 3
   },
   "file_extension": ".py",
   "mimetype": "text/x-python",
   "name": "python",
   "nbconvert_exporter": "python",
   "pygments_lexer": "ipython3",
   "version": "3.10.9"
  }
 },
 "nbformat": 4,
 "nbformat_minor": 5
}
